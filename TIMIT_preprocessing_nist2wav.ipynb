{
 "cells": [
  {
   "cell_type": "markdown",
   "metadata": {},
   "source": [
    "# TIMIT: NIST format to WAV format"
   ]
  },
  {
   "cell_type": "markdown",
   "metadata": {},
   "source": [
    "This code could help to convert NIST wav files in TIMIT to the wav format that can be read by scipy"
   ]
  },
  {
   "cell_type": "code",
   "execution_count": 2,
   "metadata": {},
   "outputs": [],
   "source": [
    "from scipy.io.wavfile import read\n",
    "import subprocess\n",
    "import glob\n",
    "import os\n",
    "\n",
    "# for duration time distribution plot\n",
    "import numpy as np\n",
    "import matplotlib.pyplot as plt\n",
    "%matplotlib inline"
   ]
  },
  {
   "cell_type": "code",
   "execution_count": 3,
   "metadata": {},
   "outputs": [],
   "source": [
    "# current working directory\n",
    "cwd_path= os.getcwd()"
   ]
  },
  {
   "cell_type": "code",
   "execution_count": 6,
   "metadata": {},
   "outputs": [],
   "source": [
    "audio_path = os.path.join(cwd_path,'databank')"
   ]
  },
  {
   "cell_type": "code",
   "execution_count": 7,
   "metadata": {},
   "outputs": [],
   "source": [
    "def readwav(fname):\n",
    "    \"\"\" \n",
    "    Read wave file \n",
    "    \"\"\"\n",
    "    rate, sample = read(fname)\n",
    "    sample = sample.astype('float32')\n",
    "    duration = len(sample)/rate # in second\n",
    "    \n",
    "    return duration"
   ]
  },
  {
   "cell_type": "markdown",
   "metadata": {},
   "source": [
    "## NIST to WAV format for TRAIN folder"
   ]
  },
  {
   "cell_type": "code",
   "execution_count": 8,
   "metadata": {},
   "outputs": [
    {
     "name": "stdout",
     "output_type": "stream",
     "text": [
      "4620\n"
     ]
    },
    {
     "data": {
      "text/plain": [
       "['databank/TIMIT/TRAIN/DR3/MVJH0/SX386.WAV',\n",
       " 'databank/TIMIT/TRAIN/DR3/MVJH0/SI926.WAV',\n",
       " 'databank/TIMIT/TRAIN/DR3/MVJH0/SX296.WAV',\n",
       " 'databank/TIMIT/TRAIN/DR3/MVJH0/SX116.WAV',\n",
       " 'databank/TIMIT/TRAIN/DR3/MVJH0/SX206.WAV']"
      ]
     },
     "execution_count": 8,
     "metadata": {},
     "output_type": "execute_result"
    }
   ],
   "source": [
    "# Lists all the wav files\n",
    "wav_files_list = glob.glob('databank/TIMIT/TRAIN/*/*/*.WAV')\n",
    "print(len(wav_files_list))\n",
    "wav_files_list[0:5]"
   ]
  },
  {
   "cell_type": "code",
   "execution_count": 9,
   "metadata": {},
   "outputs": [],
   "source": [
    "# Create temporary names for the wav files to be converted. \n",
    "# We will rename them back later.\n",
    "wav_prime = []\n",
    "for file in wav_files_list:\n",
    "    fileName, fileExtension = os.path.splitext(file)\n",
    "    fileName += 'b'\n",
    "    wav_prime.append(fileName+fileExtension)"
   ]
  },
  {
   "cell_type": "code",
   "execution_count": 10,
   "metadata": {},
   "outputs": [],
   "source": [
    "# Command strings\n",
    "cmd = \"sox {0} -t wav {1}\"\n",
    "mv_cmd = \"mv {0} {1}\""
   ]
  },
  {
   "cell_type": "code",
   "execution_count": 19,
   "metadata": {},
   "outputs": [],
   "source": [
    "# Convert the wav_files first. Remove it. \n",
    "# Rename the new file created by sox to its original name\n",
    "\n",
    "# Run the following code for one time\n",
    "\n",
    "for idx, file in enumerate(wav_files_list):\n",
    "    subprocess.call(cmd.format(file, wav_prime[idx]), shell=True)\n",
    "    os.remove(file)\n",
    "    subprocess.call(mv_cmd.format(wav_prime[idx],file), shell=True)\n"
   ]
  },
  {
   "cell_type": "markdown",
   "metadata": {},
   "source": [
    "### Testing after converting"
   ]
  },
  {
   "cell_type": "markdown",
   "metadata": {},
   "source": [
    "Now let us test if we could get acoustic samples from a wavfile"
   ]
  },
  {
   "cell_type": "code",
   "execution_count": 11,
   "metadata": {},
   "outputs": [],
   "source": [
    "sx368 = 'databank/TIMIT/TRAIN/DR3/MVJH0/SX386.WAV'"
   ]
  },
  {
   "cell_type": "code",
   "execution_count": 12,
   "metadata": {},
   "outputs": [
    {
     "name": "stdout",
     "output_type": "stream",
     "text": [
      "rate= 16000\n",
      "singal: [ 7  4 -1 -2 -1  7  5  7  8  8]\n"
     ]
    }
   ],
   "source": [
    "rate,signal= read(sx368)\n",
    "print('rate=',rate)\n",
    "print('singal:',signal[0:10])"
   ]
  },
  {
   "cell_type": "markdown",
   "metadata": {},
   "source": [
    "### Duration time (seconds) distribution of training data set "
   ]
  },
  {
   "cell_type": "code",
   "execution_count": 13,
   "metadata": {},
   "outputs": [],
   "source": [
    "dur_time = np.zeros(len(wav_files_list))\n",
    "for idx, file in enumerate(wav_files_list):\n",
    "    dur_time[idx]=readwav(file)"
   ]
  },
  {
   "cell_type": "code",
   "execution_count": 49,
   "metadata": {},
   "outputs": [
    {
     "data": {
      "image/png": "[encoded data removed]",
      "text/plain": [
       "<Figure size 432x288 with 1 Axes>"
      ]
     },
     "metadata": {
      "needs_background": "light"
     },
     "output_type": "display_data"
    }
   ],
   "source": [
    "mint = min(dur_time)\n",
    "maxt = max(dur_time)\n",
    "\n",
    "bins = np.linspace(mint-0.05, maxt+0.05, 200)\n",
    "plt.hist(dur_time, bins, alpha=0.5,label='duration (seconds)')\n",
    "plt.legend(loc='upper right')\n",
    "plt.show()"
   ]
  },
  {
   "cell_type": "code",
   "execution_count": 54,
   "metadata": {},
   "outputs": [
    {
     "data": {
      "image/png": "[encoded data removed]",
      "text/plain": [
       "<Figure size 432x288 with 1 Axes>"
      ]
     },
     "metadata": {
      "needs_background": "light"
     },
     "output_type": "display_data"
    }
   ],
   "source": [
    "plt.boxplot(dur_time)\n",
    "plt.show()"
   ]
  },
  {
   "cell_type": "markdown",
   "metadata": {},
   "source": [
    "## NIST to WAV format for TEST folder"
   ]
  },
  {
   "cell_type": "code",
   "execution_count": 55,
   "metadata": {},
   "outputs": [
    {
     "name": "stdout",
     "output_type": "stream",
     "text": [
      "1680\n"
     ]
    },
    {
     "data": {
      "text/plain": [
       "['databank/TIMIT/TEST/DR3/MBDG0/SX113.WAV',\n",
       " 'databank/TIMIT/TEST/DR3/MBDG0/SX23.WAV',\n",
       " 'databank/TIMIT/TEST/DR3/MBDG0/SI2093.WAV',\n",
       " 'databank/TIMIT/TEST/DR3/MBDG0/SI1463.WAV',\n",
       " 'databank/TIMIT/TEST/DR3/MBDG0/SA2.WAV']"
      ]
     },
     "execution_count": 55,
     "metadata": {},
     "output_type": "execute_result"
    }
   ],
   "source": [
    "# Lists all the wav files\n",
    "wav_testfiles_list = glob.glob('databank/TIMIT/TEST/*/*/*.WAV')\n",
    "print(len(wav_testfiles_list))\n",
    "wav_testfiles_list[0:5]"
   ]
  },
  {
   "cell_type": "code",
   "execution_count": 58,
   "metadata": {},
   "outputs": [],
   "source": [
    "# Create temporary names for the wav files to be converted. \n",
    "# We will rename them back later.\n",
    "wav_prime = []\n",
    "for file in wav_testfiles_list:\n",
    "    fileName, fileExtension = os.path.splitext(file)\n",
    "    fileName += 'b'\n",
    "    wav_prime.append(fileName+fileExtension)"
   ]
  },
  {
   "cell_type": "code",
   "execution_count": 59,
   "metadata": {},
   "outputs": [],
   "source": [
    "# Convert the wav_files first. Remove it. \n",
    "# Rename the new file created by sox to its original name\n",
    "\n",
    "# Run the following code for one time\n",
    "\n",
    "for idx, file in enumerate(wav_testfiles_list):\n",
    "    subprocess.call(cmd.format(file, wav_prime[idx]), shell=True)\n",
    "    os.remove(file)\n",
    "    subprocess.call(mv_cmd.format(wav_prime[idx],file), shell=True)"
   ]
  },
  {
   "cell_type": "markdown",
   "metadata": {},
   "source": [
    "### Testing after converting"
   ]
  },
  {
   "cell_type": "code",
   "execution_count": 60,
   "metadata": {},
   "outputs": [
    {
     "name": "stdout",
     "output_type": "stream",
     "text": [
      "rate= 16000\n",
      "singal: [ -6  -1  -7 -14 -23 -22 -18  -5   9  19]\n"
     ]
    }
   ],
   "source": [
    "sx113 = 'databank/TIMIT/TEST/DR3/MBDG0/SX113.WAV'\n",
    "rate,signal= read(sx113)\n",
    "print('rate=',rate)\n",
    "print('singal:',signal[0:10])"
   ]
  },
  {
   "cell_type": "markdown",
   "metadata": {},
   "source": [
    "### Duration time (seconds) distribution of training data set "
   ]
  },
  {
   "cell_type": "code",
   "execution_count": 61,
   "metadata": {},
   "outputs": [],
   "source": [
    "dur_time = np.zeros(len(wav_testfiles_list))\n",
    "for idx, file in enumerate(wav_testfiles_list):\n",
    "    dur_time[idx]=readwav(file)"
   ]
  },
  {
   "cell_type": "code",
   "execution_count": 62,
   "metadata": {},
   "outputs": [
    {
     "data": {
      "image/png": "[encoded data removed]",
      "text/plain": [
       "<Figure size 432x288 with 1 Axes>"
      ]
     },
     "metadata": {
      "needs_background": "light"
     },
     "output_type": "display_data"
    }
   ],
   "source": [
    "mint = min(dur_time)\n",
    "maxt = max(dur_time)\n",
    "\n",
    "bins = np.linspace(mint-0.05, maxt+0.05, 200)\n",
    "plt.hist(dur_time, bins, alpha=0.5,label='duration (seconds)')\n",
    "plt.legend(loc='upper right')\n",
    "plt.show()"
   ]
  },
  {
   "cell_type": "code",
   "execution_count": 63,
   "metadata": {},
   "outputs": [
    {
     "data": {
      "image/png": "[encoded data removed]",
      "text/plain": [
       "<Figure size 432x288 with 1 Axes>"
      ]
     },
     "metadata": {
      "needs_background": "light"
     },
     "output_type": "display_data"
    }
   ],
   "source": [
    "plt.boxplot(dur_time)\n",
    "plt.show()"
   ]
  },
  {
   "cell_type": "markdown",
   "metadata": {},
   "source": [
    "## Reference"
   ]
  },
  {
   "cell_type": "markdown",
   "metadata": {},
   "source": [
    "1. [Coverting NIST to WAV format of TIMIT](https://fieldarchives.wordpress.com/2014/02/18/converting-the-wav-files/)\n",
    "2. [Verify an audio is in wav format](https://stackoverflow.com/questions/44748258/reading-a-wav-file-from-timit-database-in-python) "
   ]
  },
  {
   "cell_type": "markdown",
   "metadata": {},
   "source": [
    "For (2): run '**xxd -b myaudiofile.wav | head**' on terminal, and if the wav file begins with the characters **RIFF** which is the mandatory indicator the file is using wav code, if begin with **NIST**, then the file is in **NIST SPHERE** format."
   ]
  },
  {
   "cell_type": "code",
   "execution_count": null,
   "metadata": {},
   "outputs": [],
   "source": []
  }
 ],
 "metadata": {
  "kernelspec": {
   "display_name": "Python 3",
   "language": "python",
   "name": "python3"
  },
  "language_info": {
   "codemirror_mode": {
    "name": "ipython",
    "version": 3
   },
   "file_extension": ".py",
   "mimetype": "text/x-python",
   "name": "python",
   "nbconvert_exporter": "python",
   "pygments_lexer": "ipython3",
   "version": "3.6.6"
  }
 },
 "nbformat": 4,
 "nbformat_minor": 2
}
